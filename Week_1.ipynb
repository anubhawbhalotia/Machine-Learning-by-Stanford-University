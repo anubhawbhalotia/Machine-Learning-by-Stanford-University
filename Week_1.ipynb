{
  "nbformat": 4,
  "nbformat_minor": 0,
  "metadata": {
    "colab": {
      "name": "Week 1.ipynb",
      "provenance": [],
      "collapsed_sections": [],
      "toc_visible": true,
      "include_colab_link": true
    },
    "kernelspec": {
      "name": "python3",
      "display_name": "Python 3"
    }
  },
  "cells": [
    {
      "cell_type": "markdown",
      "metadata": {
        "id": "view-in-github",
        "colab_type": "text"
      },
      "source": [
        "<a href=\"https://colab.research.google.com/github/anubhawbhalotia/Machine-Learning-by-Stanford-University/blob/master/Week_1.ipynb\" target=\"_parent\"><img src=\"https://colab.research.google.com/assets/colab-badge.svg\" alt=\"Open In Colab\"/></a>"
      ]
    },
    {
      "cell_type": "markdown",
      "metadata": {
        "id": "1nqnQ3AjxGaC",
        "colab_type": "text"
      },
      "source": [
        "# **WEEK 1**"
      ]
    },
    {
      "cell_type": "markdown",
      "metadata": {
        "id": "tZzCUU2fv3GM",
        "colab_type": "text"
      },
      "source": [
        "## **Linear Regression**"
      ]
    },
    {
      "cell_type": "markdown",
      "metadata": {
        "id": "HrTuztXow230",
        "colab_type": "text"
      },
      "source": [
        "## Visualisation of Linear Regression"
      ]
    },
    {
      "cell_type": "code",
      "metadata": {
        "id": "WHL8r6cc-aSt",
        "colab_type": "code",
        "colab": {
          "base_uri": "https://localhost:8080/",
          "height": 573
        },
        "outputId": "7f0571e1-941f-4f7d-aab6-a43d731d8391"
      },
      "source": [
        "import numpy as np\n",
        "import pandas as pd\n",
        "import matplotlib.pyplot as plt\n",
        "\n",
        "url = 'Salary_Data.csv'\n",
        "dataset = pd.read_csv(url)\n",
        "x = dataset.iloc[:, :-1].values\n",
        "y = dataset.iloc[:, 1].value\n",
        "\n",
        "from sklearn.model_selection import train_test_split\n",
        "x_train, x_test, y_train, y_test = train_test_split(x, y, test_size = 1/3, shuffle = False)\n",
        "\n",
        "from sklearn.linear_model import LinearRegression\n",
        "lr = LinearRegression()\n",
        "lr.fit(x_train, y_train)\n",
        "y_pred = lr.predict(x_test)\n",
        "\n",
        "plt.scatter(x_train, y_train, color = \"red\")\n",
        "plt.plot(x_train, lr.predict(x_train), color = \"green\")\n",
        "plt.title(\"Salary vs Experience (Training set)\")\n",
        "plt.xlabel(\"Years of Experience\")\n",
        "plt.ylabel(\"Salary\")\n",
        "plt.show()\n",
        "\n",
        "plt.scatter(x_test, y_test, color = \"red\")\n",
        "plt.plot(x_train, lr.predict(x_train), color = \"green\")\n",
        "plt.title(\"Salary vs Experience (Testing set)\")\n",
        "plt.xlabel(\"Years of Experience\")\n",
        "plt.ylabel(\"Salary\")\n",
        "plt.show()"
      ],
      "execution_count": 10,
      "outputs": [
        {
          "output_type": "display_data",
          "data": {
            "image/png": "[encoded data removed]",
            "text/plain": [
              "<Figure size 432x288 with 1 Axes>"
            ]
          },
          "metadata": {
            "tags": [],
            "needs_background": "light"
          }
        },
        {
          "output_type": "display_data",
          "data": {
            "image/png": "[encoded data removed]",
            "text/plain": [
              "<Figure size 432x288 with 1 Axes>"
            ]
          },
          "metadata": {
            "tags": [],
            "needs_background": "light"
          }
        }
      ]
    },
    {
      "cell_type": "code",
      "metadata": {
        "id": "tt7aegSo4zda",
        "colab_type": "code",
        "outputId": "51cade8e-962e-41fd-a8de-fb2c050fe47e",
        "colab": {
          "base_uri": "https://localhost:8080/",
          "height": 119
        }
      },
      "source": [
        "# Finding inverse of a matrix\n",
        "import numpy as np\n",
        "x = np.array([[3,4], [2,16]])\n",
        "y = np.linalg.inv(x)\n",
        "print(x)\n",
        "print(y)\n",
        "# Multiplication of 2 matrices\n",
        "print(np.dot(x,y))"
      ],
      "execution_count": 0,
      "outputs": [
        {
          "output_type": "stream",
          "text": [
            "[[ 3  4]\n",
            " [ 2 16]]\n",
            "[[ 0.4   -0.1  ]\n",
            " [-0.05   0.075]]\n",
            "[[1. 0.]\n",
            " [0. 1.]]\n"
          ],
          "name": "stdout"
        }
      ]
    },
    {
      "cell_type": "code",
      "metadata": {
        "id": "I0EAuXdi5Xso",
        "colab_type": "code",
        "outputId": "3b9cf096-5a7c-4974-900a-d0e0e871acbd",
        "colab": {
          "base_uri": "https://localhost:8080/",
          "height": 51
        }
      },
      "source": [
        "# Transpose of a matrix\n",
        "print(np.transpose(x))"
      ],
      "execution_count": 0,
      "outputs": [
        {
          "output_type": "stream",
          "text": [
            "[[ 3  2]\n",
            " [ 4 16]]\n"
          ],
          "name": "stdout"
        }
      ]
    },
    {
      "cell_type": "code",
      "metadata": {
        "id": "xfQnKl9Ut-5F",
        "colab_type": "code",
        "colab": {}
      },
      "source": [
        ""
      ],
      "execution_count": 0,
      "outputs": []
    }
  ]
}